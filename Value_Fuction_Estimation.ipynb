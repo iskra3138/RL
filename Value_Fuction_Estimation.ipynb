{
  "nbformat": 4,
  "nbformat_minor": 0,
  "metadata": {
    "colab": {
      "name": "Value_Fuction_Estimation.ipynb",
      "provenance": [],
      "collapsed_sections": [],
      "authorship_tag": "ABX9TyOGuK24zF7No6mMLiDpsCJh",
      "include_colab_link": true
    },
    "kernelspec": {
      "name": "python3",
      "display_name": "Python 3"
    }
  },
  "cells": [
    {
      "cell_type": "markdown",
      "metadata": {
        "id": "view-in-github",
        "colab_type": "text"
      },
      "source": [
        "<a href=\"https://colab.research.google.com/github/iskra3138/RL/blob/main/Value_Fuction_Estimation.ipynb\" target=\"_parent\"><img src=\"https://colab.research.google.com/assets/colab-badge.svg\" alt=\"Open In Colab\"/></a>"
      ]
    },
    {
      "cell_type": "code",
      "metadata": {
        "id": "FTimSsYkvcOl"
      },
      "source": [
        "import numpy as np"
      ],
      "execution_count": 6,
      "outputs": []
    },
    {
      "cell_type": "code",
      "metadata": {
        "id": "oe9XsRhAvhUT"
      },
      "source": [
        "P = np.array ([[0.6,0.4,0,0,0,0,0],\n",
        "               [0.4,0.2,0.4,0,0,0,0],\n",
        "               [0,0.4,0.2,0.4,0,0,0],\n",
        "               [0,0,0.4,0.2,0.4,0,0],\n",
        "               [0,0,0,0.4,0.2,0.4,0],\n",
        "               [0,0,0,0,0.4,0.2,0.4],\n",
        "               [0,0,0,0,0,0.4,0.6]])"
      ],
      "execution_count": 7,
      "outputs": []
    },
    {
      "cell_type": "code",
      "metadata": {
        "id": "a84ebwzIDBck"
      },
      "source": [
        "R = np.array([1,0,0,0,0,0,10])"
      ],
      "execution_count": 10,
      "outputs": []
    },
    {
      "cell_type": "code",
      "metadata": {
        "id": "3qY2RUgJwGO9",
        "outputId": "d79f34b4-f4b7-4676-c787-90605422eeb1",
        "colab": {
          "base_uri": "https://localhost:8080/"
        }
      },
      "source": [
        "s0 = 0\n",
        "gamma = 0.5\n",
        "Return = 0\n",
        "\n",
        "print (s0, R[s0])\n",
        "s1 = np.random.choice(7, 1, p=P[s0])[0]\n",
        "print (s1, R[s1])\n",
        "s2 = np.random.choice(7,1,p=P[s1])[0]\n",
        "print (s2, R[s2])\n",
        "s3 = np.random.choice(7,1,p=P[s2])[0]\n",
        "print (s3, R[s3])\n",
        "Return = R[s0] + gamma*R[s1] + gamma**2*R[s2] + gamma**3*R[s3]\n",
        "print (Return)"
      ],
      "execution_count": 31,
      "outputs": [
        {
          "output_type": "stream",
          "text": [
            "0 1\n",
            "0 1\n",
            "0 1\n",
            "1 0\n",
            "1.75\n"
          ],
          "name": "stdout"
        }
      ]
    },
    {
      "cell_type": "markdown",
      "metadata": {
        "id": "RkbiQ-w4IZWR"
      },
      "source": [
        "## Simulation Based Method"
      ]
    },
    {
      "cell_type": "code",
      "metadata": {
        "id": "eqxTw4q3wH1Y",
        "outputId": "a4fdf426-c250-4b23-96c8-45d08ad2a4f9",
        "colab": {
          "base_uri": "https://localhost:8080/"
        }
      },
      "source": [
        "gamma = 0.5\n",
        "for n in range(7):\n",
        "  s0 = n\n",
        "  Returns = []\n",
        "  for i in range(10000):\n",
        "    s1 = np.random.choice(7, 1, p=P[s0])[0]\n",
        "    s2 = np.random.choice(7,1,p=P[s1])[0]\n",
        "    s3 = np.random.choice(7,1,p=P[s2])[0]\n",
        "    Return = R[s0] + gamma*R[s1] + gamma**2*R[s2] + gamma**3*R[s3]\n",
        "    Returns.append(Return)\n",
        "    #print (s0, s1, s2, s3, \":\", R[s0], R[s1], R[s2], R[s3], \"=\",  Return)\n",
        "  print (s0, sum(Returns)/len(Returns))"
      ],
      "execution_count": 79,
      "outputs": [
        {
          "output_type": "stream",
          "text": [
            "0 [1.486775]\n",
            "1 [0.320625]\n",
            "2 [0.0602125]\n",
            "3 [0.0924625]\n",
            "4 [0.608625]\n",
            "5 [3.201]\n",
            "6 [14.831375]\n"
          ],
          "name": "stdout"
        }
      ]
    },
    {
      "cell_type": "markdown",
      "metadata": {
        "id": "FPoM-8F2IVG6"
      },
      "source": [
        "## 수리적인 방법"
      ]
    },
    {
      "cell_type": "code",
      "metadata": {
        "id": "ozE_wK0UHWG5",
        "outputId": "a1161d85-6a47-46c2-e449-18aed9263f69",
        "colab": {
          "base_uri": "https://localhost:8080/"
        }
      },
      "source": [
        "R = R.reshape(7,1)\n",
        "I = np.identity(7)\n",
        "np.matmul(np.linalg.inv(I - gamma * P), R)"
      ],
      "execution_count": 80,
      "outputs": [
        {
          "output_type": "execute_result",
          "data": {
            "text/plain": [
              "array([[ 1.53426666],\n",
              "       [ 0.3699333 ],\n",
              "       [ 0.13043318],\n",
              "       [ 0.21701603],\n",
              "       [ 0.84613895],\n",
              "       [ 3.59060924],\n",
              "       [15.31160264]])"
            ]
          },
          "metadata": {
            "tags": []
          },
          "execution_count": 80
        }
      ]
    },
    {
      "cell_type": "markdown",
      "metadata": {
        "id": "eY-sUEnrZ-av"
      },
      "source": [
        "## Dynamic Programming"
      ]
    },
    {
      "cell_type": "code",
      "metadata": {
        "id": "_XKvNedKIEgg"
      },
      "source": [
        "V = np.zeros(shape=(7,1))\n",
        "while True:\n",
        "  new_V = R + gamma* np.matmul(P,V)\n",
        "  if (new_V == V).all() :\n",
        "    break\n",
        "  else :\n",
        "    V = new_V"
      ],
      "execution_count": 99,
      "outputs": []
    },
    {
      "cell_type": "code",
      "metadata": {
        "id": "E8YpJqc5aKka",
        "outputId": "d454e382-d164-4422-ab4a-4e9aa1f232b2",
        "colab": {
          "base_uri": "https://localhost:8080/"
        }
      },
      "source": [
        "new_V"
      ],
      "execution_count": 100,
      "outputs": [
        {
          "output_type": "execute_result",
          "data": {
            "text/plain": [
              "array([[ 1.53426666],\n",
              "       [ 0.3699333 ],\n",
              "       [ 0.13043318],\n",
              "       [ 0.21701603],\n",
              "       [ 0.84613895],\n",
              "       [ 3.59060924],\n",
              "       [15.31160264]])"
            ]
          },
          "metadata": {
            "tags": []
          },
          "execution_count": 100
        }
      ]
    }
  ]
}